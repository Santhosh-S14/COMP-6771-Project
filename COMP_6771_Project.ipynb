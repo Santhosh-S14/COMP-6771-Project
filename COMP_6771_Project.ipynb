{
  "nbformat": 4,
  "nbformat_minor": 0,
  "metadata": {
    "colab": {
      "provenance": [],
      "authorship_tag": "ABX9TyPpjc0+93l9XC1zrNRa7r2g",
      "include_colab_link": true
    },
    "kernelspec": {
      "name": "python3",
      "display_name": "Python 3"
    },
    "language_info": {
      "name": "python"
    }
  },
  "cells": [
    {
      "cell_type": "markdown",
      "metadata": {
        "id": "view-in-github",
        "colab_type": "text"
      },
      "source": [
        "<a href=\"https://colab.research.google.com/github/Santhosh-S14/COMP-6771-Project/blob/main/COMP_6771_Project.ipynb\" target=\"_parent\"><img src=\"https://colab.research.google.com/assets/colab-badge.svg\" alt=\"Open In Colab\"/></a>"
      ]
    },
    {
      "cell_type": "code",
      "execution_count": 10,
      "metadata": {
        "id": "uO3K-Ky5FyeI"
      },
      "outputs": [],
      "source": [
        "import tensorflow as tf\n",
        "from tensorflow.keras.datasets import fashion_mnist\n",
        "import matplotlib.pyplot as plt"
      ]
    },
    {
      "cell_type": "code",
      "source": [
        "#load data\n",
        "(x_train, _), (x_test, _) = fashion_mnist.load_data()\n",
        "\n",
        "#generating a grid with samples of dataset\n",
        "fig, axs = plt.subplots(5, 10)\n",
        "fig.tight_layout(pad=-1)\n",
        "plt.gray()\n",
        "a = 0 \n",
        "for i in range(5): \n",
        "  for j in range(10): \n",
        "    axs[i, j].imshow(tf.squeeze(x_test[a])) \n",
        "    axs[i, j].xaxis.set_visible(False) \n",
        "    axs[i, j].yaxis.set_visible(False)"
      ],
      "metadata": {
        "colab": {
          "base_uri": "https://localhost:8080/",
          "height": 307
        },
        "id": "DYQKr7l2KrxE",
        "outputId": "214a2655-56a6-4812-b122-e6e6978d1e9a"
      },
      "execution_count": 11,
      "outputs": [
        {
          "output_type": "display_data",
          "data": {
            "text/plain": [
              "<Figure size 432x288 with 50 Axes>"
            ],
            "image/png": "[encoded data removed]"
          },
          "metadata": {
            "needs_background": "light"
          }
        }
      ]
    },
    {
      "cell_type": "code",
      "source": [
        "#formatting the data\n",
        "num_pixels = x_train.shape[1] * x_train.shape[2]\n",
        "x_train = x_train.reshape(x_train.shape[0], num_pixels).astype('float32')\n",
        "x_test = x_test.reshape(x_test.shape[0], num_pixels).astype('float32')\n",
        "x_train = x_train / 255\n",
        "x_test = x_test /255\n",
        "\n",
        "print(x_train.shape, x_test.shape)\n",
        "\n",
        "#adding fourth dimension for color format\n",
        "x_train = x_train[..., tf.newaxis]\n",
        "x_test = x_test[..., tf.newaxis]\n",
        "\n",
        "print(x_train.shape, x_test.shape)"
      ],
      "metadata": {
        "colab": {
          "base_uri": "https://localhost:8080/"
        },
        "id": "X7EOOlxvLQfM",
        "outputId": "b5d2ecfd-f7a5-479a-f131-7780f2efceb2"
      },
      "execution_count": 12,
      "outputs": [
        {
          "output_type": "stream",
          "name": "stdout",
          "text": [
            "(60000, 784) (10000, 784)\n",
            "(60000, 784, 1) (10000, 784, 1)\n"
          ]
        }
      ]
    },
    {
      "cell_type": "code",
      "source": [],
      "metadata": {
        "id": "gdbdRJa_Q6xu"
      },
      "execution_count": null,
      "outputs": []
    }
  ]
}